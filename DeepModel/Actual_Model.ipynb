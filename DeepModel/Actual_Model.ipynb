{
  "cells": [
    {
      "cell_type": "code",
      "execution_count": null,
      "metadata": {
        "colab": {
          "base_uri": "https://localhost:8080/"
        },
        "id": "8M2dj5685KYm",
        "outputId": "204796e9-1121-4da5-eeeb-5e23b5ab299e"
      },
      "outputs": [
        {
          "output_type": "stream",
          "name": "stdout",
          "text": [
            "Mounted at /content/drive\n"
          ]
        }
      ],
      "source": [
        "from google.colab import drive\n",
        "drive.mount('/content/drive')"
      ]
    },
    {
      "cell_type": "code",
      "execution_count": null,
      "metadata": {
        "colab": {
          "base_uri": "https://localhost:8080/"
        },
        "id": "RKI2sYRb7qtV",
        "outputId": "c4316315-ff7a-434c-cf9a-33fb0607b247"
      },
      "outputs": [
        {
          "output_type": "stream",
          "name": "stdout",
          "text": [
            "ls: cannot access '/content/drive/My Drive/UofT/Course/4th year/aps360/': No such file or directory\n"
          ]
        }
      ],
      "source": [
        "# List all files including hidden ones and with their file types\n",
        "!ls -lha '/content/drive/My Drive/UofT/Course/4th year/aps360/'\n"
      ]
    },
    {
      "cell_type": "code",
      "execution_count": null,
      "metadata": {
        "colab": {
          "base_uri": "https://localhost:8080/"
        },
        "id": "LH3XVXi25YA2",
        "outputId": "bbf6d0a1-57c3-4527-de8a-869308d1a05b"
      },
      "outputs": [
        {
          "output_type": "stream",
          "name": "stdout",
          "text": [
            "Labels extracted to: /content/dataset\n"
          ]
        }
      ],
      "source": [
        "import zipfile\n",
        "import os\n",
        "\n",
        "# Path to the zip file\n",
        "zip_path = '/content/drive/My Drive/APS360 Group Project/small_dataset_cleaned.zip'\n",
        "\n",
        "# Destination folder for unzipped files\n",
        "extract_dir = '/content/dataset'\n",
        "os.makedirs(extract_dir, exist_ok=True)\n",
        "\n",
        "# Unzipping the file\n",
        "with zipfile.ZipFile(zip_path, 'r') as zip_ref:\n",
        "    zip_ref.extractall(extract_dir)\n",
        "\n",
        "print(f\"Labels extracted to: {extract_dir}\")\n"
      ]
    },
    {
      "cell_type": "code",
      "execution_count": null,
      "metadata": {
        "colab": {
          "base_uri": "https://localhost:8080/"
        },
        "id": "zNGZaQyx8YhX",
        "outputId": "4b5cdc70-678a-4591-9dac-9fd3550658ba"
      },
      "outputs": [
        {
          "output_type": "stream",
          "name": "stdout",
          "text": [
            "0d5604e63b.jpg\t2b4e72cc94.jpg\t9edfbce4bf.jpg\tcd047c4783.jpg\te144e5f493.jpg\n",
            "1a1dd4c33f.jpg\t4d64968caf.jpg\taae10afad8.jpg\td389e1c3bc.jpg\te7ae27c207.jpg\n",
            "225076bc5c.jpg\t58d493a3c8.jpg\tba1113bc22.jpg\td901eede31.jpg\tf2645c0e00.jpg\n",
            "27eb456846.jpg\t779d05b752.jpg\tc07d951104.jpg\td9ec847c49.jpg\tf6af694f58.jpg\n"
          ]
        }
      ],
      "source": [
        "# List the files in the extracted directory\n",
        "!ls /content/dataset/images/test/18a920aa32\n",
        "\n"
      ]
    },
    {
      "cell_type": "code",
      "execution_count": null,
      "metadata": {
        "colab": {
          "base_uri": "https://localhost:8080/"
        },
        "id": "fUA0zrL2-MKT",
        "outputId": "13d46c9a-9a55-4746-eb7c-30a4afa913e5"
      },
      "outputs": [
        {
          "output_type": "stream",
          "name": "stdout",
          "text": [
            "Total ingredients: 345\n",
            "['adzuki beans', 'all purpose cajun seasoning', 'almond milk beverages', 'almonds', 'ancho peppers', 'anise seed', 'apples', 'apricot jams and preserves', 'artichokes', 'arugula']\n",
            "Total unique ingredients mapped: 345\n",
            "[('adzuki beans', 0), ('all purpose cajun seasoning', 1), ('almond milk beverages', 2), ('almonds', 3), ('ancho peppers', 4), ('anise seed', 5), ('apples', 6), ('apricot jams and preserves', 7), ('artichokes', 8), ('arugula', 9)]\n"
          ]
        }
      ],
      "source": [
        "# Path to the list_ingredients.txt file\n",
        "# ingredient_list_path = '/content/drive/My Drive/UofT/Course/4th year/aps360/list_ingredients.txt'\n",
        "ingredient_list_path = '/content/drive/My Drive/list_ingredients.txt'\n",
        "# Reading the ingredients from the file, stopping when 'Top 10' is encountered\n",
        "ingredients = []\n",
        "with open(ingredient_list_path, 'r') as f:\n",
        "    for line in f:\n",
        "        # Stop reading if we encounter the 'Top 10 Most Common Ingredients' line\n",
        "        if line.startswith('Top'):\n",
        "            break\n",
        "\n",
        "        # Skip lines that are not ingredients or are headers\n",
        "        if ':' in line or line.strip() == '':\n",
        "            continue\n",
        "\n",
        "        # Extract the ingredient name before the '(' character (ignore the numbers)\n",
        "        ingredient = line.split('(')[0].strip()\n",
        "        ingredients.append(ingredient)\n",
        "\n",
        "# Check how many ingredients were read and print a few for verification\n",
        "print(f\"Total ingredients: {len(ingredients)}\")\n",
        "print(ingredients[:10])  # Display the first 10 ingredients for verification\n",
        "\n",
        "# Create a dictionary mapping each ingredient to a unique index\n",
        "ingredient_dict = {ingredient: i for i, ingredient in enumerate(ingredients)}\n",
        "print(f\"Total unique ingredients mapped: {len(ingredient_dict)}\")\n",
        "print(list(ingredient_dict.items())[:10])  # Display first 10 mappings for verification\n"
      ]
    },
    {
      "cell_type": "code",
      "execution_count": null,
      "metadata": {
        "colab": {
          "base_uri": "https://localhost:8080/"
        },
        "id": "ol9SAfvzY31h",
        "outputId": "0390d109-b296-4ff6-f7cc-c145d1d35dfb"
      },
      "outputs": [
        {
          "output_type": "stream",
          "name": "stdout",
          "text": [
            "Key Name: 04283b616b\n",
            "Number of images in sample: 14\n",
            "Image tensor shape (per image): torch.Size([3, 224, 224])\n",
            "Label (One-hot encoded): tensor([0., 0., 0., 0., 0., 0., 0., 0., 0., 0., 0., 0., 0., 0., 0., 0., 0., 0.,\n",
            "        0., 0., 0., 0., 0., 0., 0., 0., 0., 0., 0., 0., 0., 0., 0., 0., 0., 0.,\n",
            "        0., 0., 0., 0., 0., 0., 0., 0., 0., 0., 0., 0., 0., 0., 0., 0., 0., 0.,\n",
            "        0., 0., 0., 0., 0., 0., 0., 0., 0., 0., 0., 0., 0., 0., 0., 0., 0., 0.,\n",
            "        0., 0., 0., 0., 0., 0., 1., 0., 1., 0., 0., 0., 0., 0., 0., 0., 0., 0.,\n",
            "        0., 0., 0., 1., 0., 0., 0., 0., 0., 0., 0., 0., 0., 0., 0., 0., 0., 0.,\n",
            "        0., 0., 0., 0., 0., 0., 0., 1., 0., 0., 0., 0., 0., 0., 0., 0., 0., 0.,\n",
            "        0., 0., 0., 0., 0., 0., 1., 1., 0., 0., 0., 0., 0., 0., 0., 0., 0., 0.,\n",
            "        0., 0., 0., 0., 0., 0., 0., 0., 0., 0., 0., 0., 0., 0., 0., 0., 0., 0.,\n",
            "        1., 0., 0., 0., 0., 0., 0., 0., 1., 0., 0., 0., 0., 0., 0., 0., 0., 0.,\n",
            "        0., 0., 0., 0., 0., 0., 0., 1., 0., 0., 0., 0., 0., 0., 0., 0., 0., 0.,\n",
            "        0., 0., 0., 0., 0., 1., 0., 1., 0., 0., 0., 0., 0., 0., 0., 0., 0., 0.,\n",
            "        0., 0., 0., 0., 0., 0., 0., 0., 0., 0., 0., 1., 0., 0., 0., 0., 0., 0.,\n",
            "        0., 0., 0., 0., 0., 0., 0., 0., 0., 0., 0., 0., 0., 0., 0., 0., 0., 0.,\n",
            "        0., 0., 0., 0., 0., 0., 0., 0., 0., 0., 0., 0., 0., 0., 0., 0., 0., 0.,\n",
            "        0., 0., 0., 0., 0., 0., 0., 0., 0., 0., 0., 0., 0., 0., 0., 0., 0., 0.,\n",
            "        0., 0., 0., 0., 0., 0., 0., 0., 0., 0., 0., 0., 0., 0., 0., 0., 0., 0.,\n",
            "        1., 0., 0., 0., 0., 0., 0., 0., 0., 0., 0., 0., 1., 0., 1., 0., 0., 0.,\n",
            "        0., 0., 0., 0., 0., 0., 0., 0., 0., 0., 0., 0., 0., 0., 0., 0., 0., 0.,\n",
            "        0., 0., 0.])\n"
          ]
        }
      ],
      "source": [
        "import os\n",
        "import glob\n",
        "import random\n",
        "import torch\n",
        "from torch.utils.data import Dataset, DataLoader\n",
        "from PIL import Image\n",
        "from torchvision import transforms\n",
        "\n",
        "class IngredientDataset(Dataset):\n",
        "    def __init__(self, image_folder, label_folder, ingredient_dict, transform=None, folder_percentage=1.0, image_percentage=1.0):\n",
        "        self.image_folder = image_folder\n",
        "        self.label_folder = label_folder\n",
        "        self.transform = transform\n",
        "        self.ingredient_dict = ingredient_dict\n",
        "        self.data = []\n",
        "\n",
        "        # Collect all key names (subfolders in image_folder for train/val/test)\n",
        "        all_folders = [key_name for key_name in os.listdir(label_folder) if key_name.endswith('.txt')]\n",
        "\n",
        "        # Sample a subset of folders based on the folder_percentage\n",
        "        folder_count = int(len(all_folders) * folder_percentage)\n",
        "        selected_folders = random.sample(all_folders, folder_count)\n",
        "\n",
        "        for key_name in selected_folders:\n",
        "            key_name_no_ext = key_name.replace('.txt', '')\n",
        "            image_dir = os.path.join(image_folder, key_name_no_ext)\n",
        "            label_file = os.path.join(label_folder, key_name)\n",
        "\n",
        "            # Check if the image folder and label file both exist\n",
        "            if not os.path.exists(image_dir):\n",
        "                print(f\"Missing image folder for key: {key_name_no_ext}\")\n",
        "                continue\n",
        "\n",
        "            if not os.path.exists(label_file):\n",
        "                print(f\"Missing label file for key: {key_name_no_ext}\")\n",
        "                continue\n",
        "\n",
        "            # Collect all images in the key_name subfolder\n",
        "            images = glob.glob(os.path.join(image_dir, \"*.jpg\"))\n",
        "\n",
        "            # Sample a subset of images within the folder based on image_percentage\n",
        "            image_count = int(len(images) * image_percentage)\n",
        "            selected_images = random.sample(images, image_count) if image_count < len(images) else images\n",
        "\n",
        "            if selected_images:\n",
        "                self.data.append((key_name_no_ext, selected_images, label_file))\n",
        "            else:\n",
        "                print(f\"No images found in folder for key: {key_name_no_ext}\")\n",
        "\n",
        "    def __len__(self):\n",
        "        return len(self.data)\n",
        "\n",
        "    def __getitem__(self, idx):\n",
        "        key_name, image_paths, label_path = self.data[idx]\n",
        "\n",
        "        # Load and transform all images in the folder\n",
        "        images = [Image.open(img_path).convert('RGB') for img_path in image_paths]\n",
        "        if self.transform:\n",
        "            images = [self.transform(img) for img in images]\n",
        "\n",
        "        # Stack images into a single tensor with shape (num_images, channels, height, width)\n",
        "        images_tensor = torch.stack(images)\n",
        "\n",
        "        # Load and encode the label\n",
        "        with open(label_path, 'r') as f:\n",
        "            ingredients = f.read().strip().split('\\n')\n",
        "        label_tensor = torch.tensor(self._encode_ingredients(ingredients), dtype=torch.float)\n",
        "\n",
        "        return key_name, images_tensor, label_tensor\n",
        "\n",
        "    def _encode_ingredients(self, ingredients):\n",
        "        # Convert list of ingredients to a one-hot vector\n",
        "        ingredient_vector = [0] * len(self.ingredient_dict)\n",
        "        for ingredient in ingredients:\n",
        "            if ingredient in self.ingredient_dict:\n",
        "                ingredient_vector[self.ingredient_dict[ingredient]] = 1\n",
        "        return ingredient_vector\n",
        "\n",
        "# Define image transformations (resize, convert to tensor)\n",
        "transform = transforms.Compose([\n",
        "    transforms.Resize((224, 224)),\n",
        "    transforms.ToTensor()\n",
        "])\n",
        "\n",
        "# Set the desired percentage of folders and images to use\n",
        "folder_percentage_train = 0.1  # Use 50% of folders for training\n",
        "image_percentage_train = 1   # Use 50% of images per folder\n",
        "\n",
        "folder_percentage_val = 0.1    # Use 30% of folders for validation\n",
        "image_percentage_val = 1   # Use 50% of images per folder\n",
        "\n",
        "folder_percentage_test = 0.1   # Use 30% of folders for testing\n",
        "image_percentage_test = 1   # Use 50% of images per folder\n",
        "\n",
        "# Paths to train image and label folders\n",
        "train_image_folder = '/content/dataset/images/train'\n",
        "train_label_folder = '/content/dataset/labels/train'\n",
        "val_image_folder = '/content/dataset/images/val'\n",
        "val_label_folder = '/content/dataset/labels/val'\n",
        "test_image_folder = '/content/dataset/images/test'\n",
        "test_label_folder = '/content/dataset/labels/test'\n",
        "\n",
        "# Initialize dataset and DataLoader with percentages\n",
        "train_dataset = IngredientDataset(train_image_folder, train_label_folder, ingredient_dict, transform=transform,\n",
        "                                  folder_percentage=folder_percentage_train, image_percentage=image_percentage_train)\n",
        "train_loader = DataLoader(train_dataset, batch_size=1, shuffle=True)\n",
        "\n",
        "val_dataset = IngredientDataset(val_image_folder, val_label_folder, ingredient_dict, transform=transform,\n",
        "                                folder_percentage=folder_percentage_val, image_percentage=image_percentage_val)\n",
        "val_loader = DataLoader(val_dataset, batch_size=1, shuffle=True)\n",
        "\n",
        "test_dataset = IngredientDataset(test_image_folder, test_label_folder, ingredient_dict, transform=transform,\n",
        "                                 folder_percentage=folder_percentage_test, image_percentage=image_percentage_test)\n",
        "test_loader = DataLoader(test_dataset, batch_size=1, shuffle=True)\n",
        "\n",
        "# Verify that the subsets are loaded correctly\n",
        "for i in range(len(test_loader)):\n",
        "    key_name, images, labels = train_dataset[i]\n",
        "    print(f\"Key Name: {key_name}\")\n",
        "    print(f\"Number of images in sample: {images.shape[0]}\")\n",
        "    print(f\"Image tensor shape (per image): {images.shape[1:]}\")\n",
        "    print(f\"Label (One-hot encoded): {labels}\")\n",
        "    break\n"
      ]
    },
    {
      "cell_type": "code",
      "execution_count": null,
      "metadata": {
        "colab": {
          "base_uri": "https://localhost:8080/"
        },
        "id": "2wj5OncVZoGg",
        "outputId": "1562ed5a-6873-4b5a-8851-7865153b1085"
      },
      "outputs": [
        {
          "output_type": "stream",
          "name": "stdout",
          "text": [
            "Train Dataset Summary\n",
            "      Key Name  Total Images in Folder  \\\n",
            "0   10365f7f2d                      11   \n",
            "1   15b94ae004                       5   \n",
            "2   039651a671                       3   \n",
            "3   0225ff9fff                      17   \n",
            "4   13dcfeb428                       5   \n",
            "..         ...                     ...   \n",
            "71  00bb62aaad                      14   \n",
            "72  05543e41be                      19   \n",
            "73  152adc3be9                       5   \n",
            "74  172ff02a0c                       7   \n",
            "75       Total                    1088   \n",
            "\n",
            "                                     Label File  \n",
            "0   /content/dataset/labels/test/10365f7f2d.txt  \n",
            "1   /content/dataset/labels/test/15b94ae004.txt  \n",
            "2   /content/dataset/labels/test/039651a671.txt  \n",
            "3   /content/dataset/labels/test/0225ff9fff.txt  \n",
            "4   /content/dataset/labels/test/13dcfeb428.txt  \n",
            "..                                          ...  \n",
            "71  /content/dataset/labels/test/00bb62aaad.txt  \n",
            "72  /content/dataset/labels/test/05543e41be.txt  \n",
            "73  /content/dataset/labels/test/152adc3be9.txt  \n",
            "74  /content/dataset/labels/test/172ff02a0c.txt  \n",
            "75                                   75 Folders  \n",
            "\n",
            "[76 rows x 3 columns]\n"
          ]
        }
      ],
      "source": [
        "import pandas as pd\n",
        "# Function to generate a summary of the dataset\n",
        "def generate_dataset_summary(dataset):\n",
        "    data_summary = []\n",
        "\n",
        "    # Iterate over each entry in the dataset\n",
        "    for key_name, image_paths, label_file in dataset.data:\n",
        "        # Add summary info for each folder\n",
        "        data_summary.append({\n",
        "            'Key Name': key_name,\n",
        "            'Total Images in Folder': len(image_paths),\n",
        "            'Label File': label_file\n",
        "        })\n",
        "\n",
        "    # Convert to DataFrame and add a total row\n",
        "    data_summary_df = pd.DataFrame(data_summary)\n",
        "    total_images = data_summary_df['Total Images in Folder'].sum()\n",
        "    total_folders = len(data_summary_df)\n",
        "    summary_row = pd.DataFrame([{'Key Name': 'Total', 'Total Images in Folder': total_images, 'Label File': f'{total_folders} Folders'}])\n",
        "    data_summary_df = pd.concat([data_summary_df, summary_row], ignore_index=True)\n",
        "\n",
        "    return data_summary_df\n",
        "\n",
        "# Generate and display the dataset summary\n",
        "train_data_summary = generate_dataset_summary(test_dataset)\n",
        "# Display summaries directly with pandas\n",
        "print(\"Train Dataset Summary\")\n",
        "print(train_data_summary)\n"
      ]
    },
    {
      "cell_type": "code",
      "execution_count": null,
      "metadata": {
        "id": "6BFzg2XLAlTX"
      },
      "outputs": [],
      "source": []
    },
    {
      "cell_type": "code",
      "execution_count": null,
      "metadata": {
        "id": "6Ro_JE89nzFT"
      },
      "outputs": [],
      "source": [
        "import torch\n",
        "import torch.nn as nn\n",
        "import torchvision.models as models\n",
        "\n",
        "class IngredientDetectionModel(nn.Module):\n",
        "    def __init__(self, cnn_arch='resnet50', rnn_type='gru', hidden_size=512, output_size=100, num_layers=2):\n",
        "        super(IngredientDetectionModel, self).__init__()\n",
        "\n",
        "        self.name = \"PR_model\" #Arthur added this\n",
        "\n",
        "        # CNN Model\n",
        "        if cnn_arch == 'resnet50':\n",
        "            self.cnn = models.resnet50(pretrained=True)\n",
        "            self.cnn = nn.Sequential(*list(self.cnn.children())[:-1])  # Removing the classification layer\n",
        "            cnn_output_size = 2048  # ResNet50 output size\n",
        "        elif cnn_arch == 'vgg16':\n",
        "            self.cnn = models.vgg16(pretrained=True).features\n",
        "            cnn_output_size = 4096  # VGG16 output size after flattening\n",
        "\n",
        "        # RNN Model\n",
        "        self.rnn_type = rnn_type\n",
        "        if rnn_type == 'gru':\n",
        "            self.rnn = nn.GRU(cnn_output_size, hidden_size, num_layers, batch_first=True, bidirectional=True)\n",
        "        elif rnn_type == 'lstm':\n",
        "            self.rnn = nn.LSTM(cnn_output_size, hidden_size, num_layers, batch_first=True, bidirectional=True)\n",
        "\n",
        "        # Fully connected layer to map to ingredient space\n",
        "        self.fc = nn.Linear(hidden_size * 2, output_size)  # Bi-directional RNN doubles the hidden size\n",
        "\n",
        "    def forward(self, images):\n",
        "        # Process each image in the batch individually\n",
        "        cnn_features = []\n",
        "        for img in images:  # images is expected to be a list of image tensors for each sample\n",
        "            img_features = self.cnn(img)  # Pass through CNN\n",
        "            img_features = img_features.view(img_features.size(0), -1)  # Flatten CNN output\n",
        "            cnn_features.append(img_features)\n",
        "\n",
        "        # Stack all CNN features along the sequence dimension\n",
        "        cnn_features = torch.stack(cnn_features, dim=1)  # Shape: (batch_size, num_images, cnn_output_size)\n",
        "\n",
        "        # Pass stacked CNN features through RNN\n",
        "        if self.rnn_type == 'gru':\n",
        "            rnn_out, _ = self.rnn(cnn_features)\n",
        "        elif self.rnn_type == 'lstm':\n",
        "            rnn_out, (h_n, c_n) = self.rnn(cnn_features)\n",
        "\n",
        "        # Final fully connected layer on the last RNN output\n",
        "        output = self.fc(rnn_out[:, -1, :])  # Shape: (batch_size, output_size)\n",
        "\n",
        "        return output\n"
      ]
    },
    {
      "cell_type": "code",
      "execution_count": null,
      "metadata": {
        "colab": {
          "base_uri": "https://localhost:8080/"
        },
        "id": "mUfBHL3dvqVV",
        "outputId": "083c65fb-b2ff-4e72-a60a-ef3d5516c530"
      },
      "outputs": [
        {
          "output_type": "stream",
          "name": "stderr",
          "text": [
            "/usr/local/lib/python3.10/dist-packages/torchvision/models/_utils.py:208: UserWarning: The parameter 'pretrained' is deprecated since 0.13 and may be removed in the future, please use 'weights' instead.\n",
            "  warnings.warn(\n",
            "/usr/local/lib/python3.10/dist-packages/torchvision/models/_utils.py:223: UserWarning: Arguments other than a weight enum or `None` for 'weights' are deprecated since 0.13 and may be removed in the future. The current behavior is equivalent to passing `weights=ResNet50_Weights.IMAGENET1K_V1`. You can also use `weights=ResNet50_Weights.DEFAULT` to get the most up-to-date weights.\n",
            "  warnings.warn(msg)\n",
            "Downloading: \"https://download.pytorch.org/models/resnet50-0676ba61.pth\" to /root/.cache/torch/hub/checkpoints/resnet50-0676ba61.pth\n",
            "100%|██████████| 97.8M/97.8M [00:00<00:00, 111MB/s]\n"
          ]
        }
      ],
      "source": [
        "import torch\n",
        "import torch.nn as nn\n",
        "import torch.optim as optim\n",
        "\n",
        "# Instantiate the model with the number of ingredients in the output layer\n",
        "model = IngredientDetectionModel(output_size=len(ingredient_dict))  # len(ingredient_dict) = number of ingredients\n",
        "criterion = nn.BCEWithLogitsLoss()  # For multi-label classification\n",
        "optimizer = optim.Adam(model.parameters(), lr=0.001)\n"
      ]
    },
    {
      "cell_type": "code",
      "execution_count": null,
      "metadata": {
        "colab": {
          "base_uri": "https://localhost:8080/"
        },
        "id": "15RhzRzq1rA-",
        "outputId": "63d2c5f5-3d86-45f2-e515-034245a8706e"
      },
      "outputs": [
        {
          "output_type": "stream",
          "name": "stdout",
          "text": [
            "Using device: cuda\n"
          ]
        }
      ],
      "source": [
        "# Check if CUDA is available\n",
        "device = torch.device(\"cuda\" if torch.cuda.is_available() else \"cpu\")\n",
        "print(f\"Using device: {device}\")"
      ]
    },
    {
      "cell_type": "code",
      "execution_count": null,
      "metadata": {
        "colab": {
          "base_uri": "https://localhost:8080/",
          "height": 840
        },
        "id": "Wl5eCqtDn31e",
        "outputId": "15c38bb6-874e-484e-ac3a-57244e49348c"
      },
      "outputs": [
        {
          "output_type": "stream",
          "name": "stdout",
          "text": [
            "Using device: cuda\n",
            "Epoch [1/10], Train Loss: 0.0947\n",
            "Epoch [1/10], Validation Loss: 0.2353, Precision: 0.0135, Recall: 0.0167, F1 Score: 0.0057\n",
            "Epoch [2/10], Train Loss: 0.0786\n",
            "Epoch [2/10], Validation Loss: 0.2576, Precision: 0.1502, Recall: 0.0795, F1 Score: 0.0670\n",
            "Epoch [3/10], Train Loss: 0.0721\n",
            "Epoch [3/10], Validation Loss: 0.6629, Precision: 0.0515, Recall: 0.3531, F1 Score: 0.0321\n",
            "Epoch [4/10], Train Loss: 0.0756\n",
            "Epoch [4/10], Validation Loss: 0.1877, Precision: 0.0621, Recall: 0.0741, F1 Score: 0.0534\n",
            "Epoch [5/10], Train Loss: 0.0699\n",
            "Epoch [5/10], Validation Loss: 0.3031, Precision: 0.1725, Recall: 0.1585, F1 Score: 0.0607\n",
            "Epoch [6/10], Train Loss: 0.0671\n",
            "Epoch [6/10], Validation Loss: 0.3693, Precision: 0.0380, Recall: 0.2371, F1 Score: 0.0247\n",
            "Epoch [7/10], Train Loss: 0.0669\n",
            "Epoch [7/10], Validation Loss: 0.2734, Precision: 0.1834, Recall: 0.1817, F1 Score: 0.1039\n",
            "Epoch [8/10], Train Loss: 0.0725\n",
            "Epoch [8/10], Validation Loss: 0.3327, Precision: 0.0540, Recall: 0.0862, F1 Score: 0.0383\n",
            "Epoch [9/10], Train Loss: 0.0688\n",
            "Epoch [9/10], Validation Loss: 0.2160, Precision: 0.0064, Recall: 0.0412, F1 Score: 0.0073\n",
            "Epoch [10/10], Train Loss: 0.0661\n",
            "Epoch [10/10], Validation Loss: 0.3015, Precision: 0.0676, Recall: 0.2207, F1 Score: 0.0703\n"
          ]
        },
        {
          "output_type": "display_data",
          "data": {
            "text/plain": [
              "<Figure size 1200x500 with 2 Axes>"
            ],
            "image/png": "[encoded data removed]"
          },
          "metadata": {}
        }
      ],
      "source": [
        "import torch\n",
        "import torch.nn as nn\n",
        "import torch.optim as optim\n",
        "import numpy as np\n",
        "import matplotlib.pyplot as plt\n",
        "\n",
        "# Check if CUDA is available\n",
        "device = torch.device(\"cuda\" if torch.cuda.is_available() else \"cpu\")\n",
        "print(f\"Using device: {device}\")\n",
        "\n",
        "# Move the model to the device\n",
        "model = IngredientDetectionModel(output_size=len(ingredient_dict)).to(device)\n",
        "\n",
        "# Loss function and optimizer\n",
        "criterion = nn.BCEWithLogitsLoss()\n",
        "optimizer = optim.Adam(model.parameters(), lr=0.001)\n",
        "\n",
        "# Custom function to calculate precision, recall, and F1-score\n",
        "def calculate_f1_score(y_true, y_pred):\n",
        "    true_positives = np.sum((y_true == 1) & (y_pred == 1), axis=1)\n",
        "    false_positives = np.sum((y_true == 0) & (y_pred == 1), axis=1)\n",
        "    false_negatives = np.sum((y_true == 1) & (y_pred == 0), axis=1)\n",
        "\n",
        "    # Avoid division by zero\n",
        "    precision = true_positives / (true_positives + false_positives + 1e-10)\n",
        "    recall = true_positives / (true_positives + false_negatives + 1e-10)\n",
        "    f1 = 2 * (precision * recall) / (precision + recall + 1e-10)\n",
        "\n",
        "    # Average across samples\n",
        "    return np.mean(precision), np.mean(recall), np.mean(f1)\n",
        "\n",
        "# Training loop with CUDA support\n",
        "num_epochs = 10  # Set the number of epochs\n",
        "\n",
        "# Lists to store metrics for plotting\n",
        "train_losses = []\n",
        "val_losses = []\n",
        "precisions = []\n",
        "recalls = []\n",
        "f1_scores = []\n",
        "\n",
        "for epoch in range(num_epochs):\n",
        "    model.train()\n",
        "    train_loss = 0.0\n",
        "    total_batches = len(train_loader)  # Total number of batches in an epoch\n",
        "\n",
        "    # Training phase\n",
        "    for batch_idx, (key_name, images, labels) in enumerate(train_loader):\n",
        "        # Move images and labels to the GPU\n",
        "        images = [img.to(device) for img in images]\n",
        "        labels = labels.to(device)\n",
        "\n",
        "        optimizer.zero_grad()  # Reset gradients\n",
        "\n",
        "        # Forward pass\n",
        "        outputs = model(images)\n",
        "        outputs = outputs.sum(dim=0, keepdim=True)  # Sum across images to get shape [1, output_size]\n",
        "\n",
        "        # Calculate loss\n",
        "        loss = criterion(outputs, labels)\n",
        "        loss.backward()  # Backpropagation\n",
        "        optimizer.step()  # Update model parameters\n",
        "\n",
        "        train_loss += loss.item()\n",
        "\n",
        "    # Average training loss for the epoch\n",
        "    avg_train_loss = train_loss / len(train_loader)\n",
        "    train_losses.append(avg_train_loss)\n",
        "    print(f\"Epoch [{epoch+1}/{num_epochs}], Train Loss: {avg_train_loss:.4f}\")\n",
        "\n",
        "    # Validation phase\n",
        "    model.eval()\n",
        "    val_loss = 0.0\n",
        "    all_val_labels = []\n",
        "    all_val_outputs = []\n",
        "\n",
        "    with torch.no_grad():\n",
        "        for key_name, images, labels in val_loader:\n",
        "            # Move images and labels to the GPU\n",
        "            images = [img.to(device) for img in images]\n",
        "            labels = labels.to(device)\n",
        "\n",
        "            # Forward pass and sum the outputs\n",
        "            outputs = model(images)\n",
        "            outputs = outputs.sum(dim=0, keepdim=True)  # Shape [1, output_size]\n",
        "\n",
        "            # Calculate loss\n",
        "            loss = criterion(outputs, labels)\n",
        "            val_loss += loss.item()\n",
        "\n",
        "            # Apply sigmoid and threshold to get predictions\n",
        "            probabilities = torch.sigmoid(outputs)\n",
        "            predicted_ingredients = (probabilities > 0.5).int()\n",
        "\n",
        "            # Collect true and predicted labels for metric calculation\n",
        "            all_val_labels.append(labels.cpu().numpy())\n",
        "            all_val_outputs.append(predicted_ingredients.cpu().numpy())\n",
        "\n",
        "    # Average validation loss for the epoch\n",
        "    avg_val_loss = val_loss / len(val_loader)\n",
        "    val_losses.append(avg_val_loss)\n",
        "\n",
        "    # Calculate precision, recall, and F1-score\n",
        "    all_val_labels = np.vstack(all_val_labels)\n",
        "    all_val_outputs = np.vstack(all_val_outputs)\n",
        "    precision, recall, val_f1 = calculate_f1_score(all_val_labels, all_val_outputs)\n",
        "    precisions.append(precision)\n",
        "    recalls.append(recall)\n",
        "    f1_scores.append(val_f1)\n",
        "\n",
        "    print(f\"Epoch [{epoch+1}/{num_epochs}], Validation Loss: {avg_val_loss:.4f}, Precision: {precision:.4f}, Recall: {recall:.4f}, F1 Score: {val_f1:.4f}\")\n",
        "\n",
        "# Plotting the results\n",
        "epochs = range(1, num_epochs + 1)\n",
        "\n",
        "plt.figure(figsize=(12, 5))\n",
        "\n",
        "# Plot Training and Validation Loss\n",
        "plt.subplot(1, 2, 1)\n",
        "plt.plot(epochs, train_losses, label=\"Training Loss\", marker='o')\n",
        "plt.plot(epochs, val_losses, label=\"Validation Loss\", marker='o')\n",
        "plt.xlabel(\"Epoch\")\n",
        "plt.ylabel(\"Loss\")\n",
        "plt.title(\"Training and Validation Loss over Epochs\")\n",
        "plt.legend()\n",
        "\n",
        "# Plot Precision, Recall, and F1 Score\n",
        "plt.subplot(1, 2, 2)\n",
        "plt.plot(epochs, precisions, label=\"Precision\", marker='o')\n",
        "plt.plot(epochs, recalls, label=\"Recall\", marker='o')\n",
        "plt.plot(epochs, f1_scores, label=\"F1 Score\", marker='o')\n",
        "plt.xlabel(\"Epoch\")\n",
        "plt.ylabel(\"Score\")\n",
        "plt.title(\"Precision, Recall, and F1 Score over Epochs\")\n",
        "plt.legend()\n",
        "\n",
        "plt.tight_layout()\n",
        "plt.show()\n"
      ]
    },
    {
      "cell_type": "code",
      "execution_count": null,
      "metadata": {
        "id": "El11uCkbRbUC"
      },
      "outputs": [],
      "source": [
        "def get_model_name(name, batch_size, epoch):\n",
        "    \"\"\" Generate a name for the model consisting of all the hyperparameter values\n",
        "\n",
        "    Args:\n",
        "        config: Configuration object containing the hyperparameters\n",
        "    Returns:\n",
        "        path: A string with the hyperparameter name and value concatenated\n",
        "    \"\"\"\n",
        "    path = \"model_{0}_bs{1}_epoch{2}\".format(name,\n",
        "                                                   batch_size,\n",
        "                                                   epoch)\n",
        "    return path\n"
      ]
    },
    {
      "cell_type": "code",
      "execution_count": null,
      "metadata": {
        "id": "tAKZOznbRSL0",
        "colab": {
          "base_uri": "https://localhost:8080/"
        },
        "outputId": "39dee744-b44e-4efc-af88-182180eae002"
      },
      "outputs": [
        {
          "output_type": "stream",
          "name": "stdout",
          "text": [
            "Model saved to ingredient_detection_model.pth\n"
          ]
        }
      ],
      "source": [
        "# Save the model\n",
        "model_path = \"ingredient_detection_model.pth\"\n",
        "torch.save(model.state_dict(), model_path)\n",
        "print(f\"Model saved to {model_path}\")\n"
      ]
    },
    {
      "cell_type": "code",
      "execution_count": null,
      "metadata": {
        "id": "zOLRCck-R_9G",
        "colab": {
          "base_uri": "https://localhost:8080/"
        },
        "outputId": "363bcb33-7ed8-4e7a-c3c4-a12ba6640bcc"
      },
      "outputs": [
        {
          "output_type": "stream",
          "name": "stderr",
          "text": [
            "<ipython-input-15-0283f65ea5bd>:3: FutureWarning: You are using `torch.load` with `weights_only=False` (the current default value), which uses the default pickle module implicitly. It is possible to construct malicious pickle data which will execute arbitrary code during unpickling (See https://github.com/pytorch/pytorch/blob/main/SECURITY.md#untrusted-models for more details). In a future release, the default value for `weights_only` will be flipped to `True`. This limits the functions that could be executed during unpickling. Arbitrary objects will no longer be allowed to be loaded via this mode unless they are explicitly allowlisted by the user via `torch.serialization.add_safe_globals`. We recommend you start setting `weights_only=True` for any use case where you don't have full control of the loaded file. Please open an issue on GitHub for any issues related to this experimental feature.\n",
            "  model.load_state_dict(torch.load(model_path))\n"
          ]
        },
        {
          "output_type": "stream",
          "name": "stdout",
          "text": [
            "Model loaded and ready for testing\n"
          ]
        }
      ],
      "source": [
        "# Reinitialize the model structure and load the saved weights\n",
        "model = IngredientDetectionModel(output_size=len(ingredient_dict))\n",
        "model.load_state_dict(torch.load(model_path))\n",
        "model.to(device)\n",
        "print(\"Model loaded and ready for testing\")\n"
      ]
    },
    {
      "cell_type": "code",
      "execution_count": null,
      "metadata": {
        "id": "cLwjX8Fvn5Tq",
        "colab": {
          "base_uri": "https://localhost:8080/"
        },
        "outputId": "2dc2e743-11e6-4daf-a13d-116b2a596e40"
      },
      "outputs": [
        {
          "output_type": "stream",
          "name": "stdout",
          "text": [
            "Folder '12d2ade4d7': label shape: torch.Size([345]), prediction shape: torch.Size([345])\n",
            "Folder '0402f234f9': label shape: torch.Size([345]), prediction shape: torch.Size([345])\n",
            "Folder '04684b0f2a': label shape: torch.Size([345]), prediction shape: torch.Size([345])\n",
            "Folder '12339384ad': label shape: torch.Size([345]), prediction shape: torch.Size([345])\n",
            "Folder '0f04c8e3ab': label shape: torch.Size([345]), prediction shape: torch.Size([345])\n",
            "Folder '1372a8d2f9': label shape: torch.Size([345]), prediction shape: torch.Size([345])\n",
            "Folder '147adcc2bd': label shape: torch.Size([345]), prediction shape: torch.Size([345])\n",
            "Folder '174d7d5a8e': label shape: torch.Size([345]), prediction shape: torch.Size([345])\n",
            "Folder '171ebed65e': label shape: torch.Size([345]), prediction shape: torch.Size([345])\n",
            "Folder '172472f558': label shape: torch.Size([345]), prediction shape: torch.Size([345])\n",
            "Folder '0f26302a2d': label shape: torch.Size([345]), prediction shape: torch.Size([345])\n",
            "Folder '0772646fd3': label shape: torch.Size([345]), prediction shape: torch.Size([345])\n",
            "Folder '017fe6288c': label shape: torch.Size([345]), prediction shape: torch.Size([345])\n",
            "Folder '00b9b0b3f7': label shape: torch.Size([345]), prediction shape: torch.Size([345])\n",
            "Folder '145a0b69fc': label shape: torch.Size([345]), prediction shape: torch.Size([345])\n",
            "Folder '0721dd18be': label shape: torch.Size([345]), prediction shape: torch.Size([345])\n",
            "Folder '161cd71113': label shape: torch.Size([345]), prediction shape: torch.Size([345])\n",
            "Folder '0ac40c6e9e': label shape: torch.Size([345]), prediction shape: torch.Size([345])\n",
            "Folder '0202c2b0c8': label shape: torch.Size([345]), prediction shape: torch.Size([345])\n",
            "Folder '08fcb205b2': label shape: torch.Size([345]), prediction shape: torch.Size([345])\n",
            "Folder '11de486d12': label shape: torch.Size([345]), prediction shape: torch.Size([345])\n",
            "Folder '160582865b': label shape: torch.Size([345]), prediction shape: torch.Size([345])\n",
            "Folder '0edcde1dbf': label shape: torch.Size([345]), prediction shape: torch.Size([345])\n",
            "Folder '066d6925af': label shape: torch.Size([345]), prediction shape: torch.Size([345])\n",
            "Folder '0182c223ec': label shape: torch.Size([345]), prediction shape: torch.Size([345])\n",
            "Folder '0d628898e6': label shape: torch.Size([345]), prediction shape: torch.Size([345])\n",
            "Folder '0db2feabf6': label shape: torch.Size([345]), prediction shape: torch.Size([345])\n",
            "Folder '1012901e54': label shape: torch.Size([345]), prediction shape: torch.Size([345])\n",
            "Folder '13505a4783': label shape: torch.Size([345]), prediction shape: torch.Size([345])\n",
            "Folder '00838e89d2': label shape: torch.Size([345]), prediction shape: torch.Size([345])\n",
            "Folder '068901448b': label shape: torch.Size([345]), prediction shape: torch.Size([345])\n",
            "Folder '0336f465de': label shape: torch.Size([345]), prediction shape: torch.Size([345])\n",
            "Folder '00a39a8659': label shape: torch.Size([345]), prediction shape: torch.Size([345])\n",
            "Folder '17cc0bcdf9': label shape: torch.Size([345]), prediction shape: torch.Size([345])\n",
            "Folder '141337215e': label shape: torch.Size([345]), prediction shape: torch.Size([345])\n",
            "Folder '05caee16e6': label shape: torch.Size([345]), prediction shape: torch.Size([345])\n",
            "Folder '058e9b681d': label shape: torch.Size([345]), prediction shape: torch.Size([345])\n",
            "Folder '0529f1e789': label shape: torch.Size([345]), prediction shape: torch.Size([345])\n",
            "Folder '0658df9a25': label shape: torch.Size([345]), prediction shape: torch.Size([345])\n",
            "Folder '0606e96d54': label shape: torch.Size([345]), prediction shape: torch.Size([345])\n",
            "Folder '038d95c8e2': label shape: torch.Size([345]), prediction shape: torch.Size([345])\n",
            "Folder '0c440117b7': label shape: torch.Size([345]), prediction shape: torch.Size([345])\n",
            "Folder '03a8570847': label shape: torch.Size([345]), prediction shape: torch.Size([345])\n",
            "Folder '122b299283': label shape: torch.Size([345]), prediction shape: torch.Size([345])\n",
            "Folder '0dba2b8b72': label shape: torch.Size([345]), prediction shape: torch.Size([345])\n",
            "Folder '151b61c3b0': label shape: torch.Size([345]), prediction shape: torch.Size([345])\n",
            "Folder '174d11e43c': label shape: torch.Size([345]), prediction shape: torch.Size([345])\n",
            "Folder '1891d56a9e': label shape: torch.Size([345]), prediction shape: torch.Size([345])\n",
            "Folder '0017898fda': label shape: torch.Size([345]), prediction shape: torch.Size([345])\n",
            "Folder '0e31bb6f42': label shape: torch.Size([345]), prediction shape: torch.Size([345])\n",
            "Folder '18a920aa32': label shape: torch.Size([345]), prediction shape: torch.Size([345])\n",
            "Folder '01fc45d329': label shape: torch.Size([345]), prediction shape: torch.Size([345])\n",
            "Folder '0293ddd299': label shape: torch.Size([345]), prediction shape: torch.Size([345])\n",
            "Folder '01d284969f': label shape: torch.Size([345]), prediction shape: torch.Size([345])\n",
            "Folder '095013495c': label shape: torch.Size([345]), prediction shape: torch.Size([345])\n",
            "Folder '133cfce941': label shape: torch.Size([345]), prediction shape: torch.Size([345])\n",
            "Folder '17cab54dcb': label shape: torch.Size([345]), prediction shape: torch.Size([345])\n",
            "Folder '12c3b62904': label shape: torch.Size([345]), prediction shape: torch.Size([345])\n",
            "Folder '16fdcb57e4': label shape: torch.Size([345]), prediction shape: torch.Size([345])\n",
            "Folder '14ea50e82f': label shape: torch.Size([345]), prediction shape: torch.Size([345])\n",
            "Folder '04ca980793': label shape: torch.Size([345]), prediction shape: torch.Size([345])\n",
            "Folder '06296e1011': label shape: torch.Size([345]), prediction shape: torch.Size([345])\n",
            "Folder '0e7bbc9ac6': label shape: torch.Size([345]), prediction shape: torch.Size([345])\n",
            "Folder '0d16d598bb': label shape: torch.Size([345]), prediction shape: torch.Size([345])\n",
            "Folder '046ad67a9f': label shape: torch.Size([345]), prediction shape: torch.Size([345])\n",
            "Folder '0e6333e6e1': label shape: torch.Size([345]), prediction shape: torch.Size([345])\n",
            "Folder '03bbf785b9': label shape: torch.Size([345]), prediction shape: torch.Size([345])\n",
            "Folder '177058750d': label shape: torch.Size([345]), prediction shape: torch.Size([345])\n",
            "Folder '0701eaacca': label shape: torch.Size([345]), prediction shape: torch.Size([345])\n",
            "Folder '10057d39e8': label shape: torch.Size([345]), prediction shape: torch.Size([345])\n",
            "Folder '0290116196': label shape: torch.Size([345]), prediction shape: torch.Size([345])\n",
            "Folder '0efa0a753d': label shape: torch.Size([345]), prediction shape: torch.Size([345])\n",
            "Folder '0edcd7f260': label shape: torch.Size([345]), prediction shape: torch.Size([345])\n",
            "Folder '018f15060d': label shape: torch.Size([345]), prediction shape: torch.Size([345])\n",
            "Folder '11dd34afc6': label shape: torch.Size([345]), prediction shape: torch.Size([345])\n",
            "Test Precision: 0.0983, Test Recall: 0.2354, Test F1 Score: 0.0765\n"
          ]
        }
      ],
      "source": [
        "import torch\n",
        "import numpy as np\n",
        "\n",
        "def test_model(model, test_loader, device):\n",
        "    model.eval()\n",
        "\n",
        "    all_test_labels = []\n",
        "    all_test_outputs = []\n",
        "\n",
        "    with torch.no_grad():\n",
        "        for key_name, images, label in test_loader:\n",
        "            # Move label to device and ensure it has the correct shape\n",
        "            label = label.to(device).squeeze(0)\n",
        "\n",
        "            # Process all images in the folder by summing their predictions\n",
        "            images = [img.to(device) for img in images]  # List of images\n",
        "            outputs = model(images)  # Pass list of images through the model\n",
        "            outputs = outputs.sum(dim=0, keepdim=True)  # Sum predictions to get shape [1, output_size]\n",
        "\n",
        "            # Apply sigmoid and threshold to get predictions\n",
        "            probabilities = torch.sigmoid(outputs).squeeze(0)  # Shape: (output_size,)\n",
        "            predicted_ingredients = (probabilities > 0.5).int()  # Binary predictions\n",
        "\n",
        "            # Debugging: print shapes for verification\n",
        "            print(f\"Folder '{key_name[0]}': label shape: {label.shape}, prediction shape: {predicted_ingredients.shape}\")\n",
        "\n",
        "            # Append label and prediction for each folder\n",
        "            all_test_labels.append(label.cpu().numpy())\n",
        "            all_test_outputs.append(predicted_ingredients.cpu().numpy())\n",
        "\n",
        "    # Convert lists to numpy arrays for metric calculation\n",
        "    all_test_labels = np.array(all_test_labels)\n",
        "    all_test_outputs = np.array(all_test_outputs)\n",
        "\n",
        "    # Calculate precision, recall, and F1-score\n",
        "    precision, recall, f1_score = calculate_f1_score(all_test_labels, all_test_outputs)\n",
        "\n",
        "    print(f\"Test Precision: {precision:.4f}, Test Recall: {recall:.4f}, Test F1 Score: {f1_score:.4f}\")\n",
        "    return {\"precision\": precision, \"recall\": recall, \"f1_score\": f1_score}\n",
        "\n",
        "# Example usage\n",
        "test_metrics = test_model(model, test_loader, device)\n"
      ]
    }
  ],
  "metadata": {
    "accelerator": "GPU",
    "colab": {
      "gpuType": "T4",
      "provenance": []
    },
    "kernelspec": {
      "display_name": "Python 3",
      "name": "python3"
    },
    "language_info": {
      "name": "python"
    }
  },
  "nbformat": 4,
  "nbformat_minor": 0
}