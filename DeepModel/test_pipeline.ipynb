{
  "cells": [
    {
      "cell_type": "code",
      "execution_count": null,
      "metadata": {
        "id": "zNGZaQyx8YhX",
        "colab": {
          "base_uri": "https://localhost:8080/"
        },
        "outputId": "ca8cda65-18c2-43fa-c2b1-e85fc618e671"
      },
      "outputs": [
        {
          "output_type": "stream",
          "name": "stdout",
          "text": [
            "Drive already mounted at /content/drive; to attempt to forcibly remount, call drive.mount(\"/content/drive\", force_remount=True).\n"
          ]
        }
      ],
      "source": [
        "import os\n",
        "from google.colab import drive\n",
        "drive.mount('/content/drive')"
      ]
    },
    {
      "cell_type": "code",
      "execution_count": null,
      "metadata": {
        "colab": {
          "base_uri": "https://localhost:8080/"
        },
        "id": "fUA0zrL2-MKT",
        "outputId": "fbd4c3e9-9960-4363-96eb-191f6feca9d9"
      },
      "outputs": [
        {
          "output_type": "stream",
          "name": "stdout",
          "text": [
            "Total ingredients: 53\n",
            "First 10 ingredients: ['agent1', 'agent2', 'allium', 'berries', 'butter1', 'butter2', 'butter3', 'butter4', 'cheese', 'chocolate']\n",
            "First 10 frequencies: [4337, 4337, 5320, 4501, 3601, 3601, 3601, 3600, 5127, 4310]\n",
            "Total unique ingredients mapped: 53\n",
            "Example ingredient mapping (index): [('agent1', 0), ('agent2', 1), ('allium', 2), ('berries', 3), ('butter1', 4), ('butter2', 5), ('butter3', 6), ('butter4', 7), ('cheese', 8), ('chocolate', 9)]\n",
            "Example ingredient mapping (frequency): [('agent1', 4337), ('agent2', 4337), ('allium', 5320), ('berries', 4501), ('butter1', 3601), ('butter2', 3601), ('butter3', 3601), ('butter4', 3600), ('cheese', 5127), ('chocolate', 4310)]\n"
          ]
        }
      ],
      "source": [
        "# Path to the list_ingredients.txt file\n",
        "\n",
        "ingredient_list_path = '/content/drive/My Drive/APS360/test_pipeline/list_ingredients.txt'\n",
        "# Path to the list_ingredients.txt file\n",
        "#ingredient_list_path = r'C:\\Users\\arthu\\APS360\\Project_New\\ML_code\\list_ingredients.txt'\n",
        "# Initialize ingredient lists\n",
        "ingredients = []\n",
        "ingredient_frequencies = []\n",
        "\n",
        "# Read the file and parse ingredients with frequencies\n",
        "with open(ingredient_list_path, 'r') as f:\n",
        "    for line in f:\n",
        "        # Stop reading if we encounter the 'Top 10 Most Common Ingredients' line\n",
        "        if line.startswith('Top'):\n",
        "            break\n",
        "\n",
        "        # Skip lines that are not ingredients or are headers\n",
        "        if ':' in line or line.strip() == '':\n",
        "            continue\n",
        "\n",
        "        # Extract the ingredient name and its frequency\n",
        "        ingredient = line.split('(')[0].strip()  # Extract ingredient name\n",
        "        frequency = int(line.split('(')[1].replace(')', '').strip())  # Extract frequency\n",
        "        ingredients.append(ingredient)\n",
        "        ingredient_frequencies.append(frequency)\n",
        "\n",
        "# Check how many ingredients were read and print a few for verification\n",
        "print(f\"Total ingredients: {len(ingredients)}\")\n",
        "print(f\"First 10 ingredients: {ingredients[:10]}\")  # Display the first 10 ingredients for verification\n",
        "print(f\"First 10 frequencies: {ingredient_frequencies[:10]}\")  # Display the first 10 frequencies for verification\n",
        "\n",
        "# Create a dictionary mapping each ingredient to a unique index (for one-hot encoding)\n",
        "ingredient_dict = {ingredient: i for i, ingredient in enumerate(ingredients)}\n",
        "\n",
        "# Create a dictionary mapping each ingredient to its frequency\n",
        "ingredient_freq_dict = {ingredient: freq for ingredient, freq in zip(ingredients, ingredient_frequencies)}\n",
        "\n",
        "# Print some examples for verification\n",
        "print(f\"Total unique ingredients mapped: {len(ingredient_dict)}\")\n",
        "print(\"Example ingredient mapping (index):\", list(ingredient_dict.items())[:10])\n",
        "print(\"Example ingredient mapping (frequency):\", list(ingredient_freq_dict.items())[:10])\n",
        "\n"
      ]
    },
    {
      "cell_type": "code",
      "execution_count": null,
      "metadata": {
        "id": "ol9SAfvzY31h"
      },
      "outputs": [],
      "source": [
        "import os\n",
        "import random\n",
        "import torch\n",
        "import glob\n",
        "from torch.utils.data import Dataset\n",
        "from PIL import Image\n",
        "\n",
        "class IngredientDataset(Dataset):\n",
        "    def __init__(self, image_folder, label_folder, ingredient_dict, transform=None, folder_percentage=1.0, image_percentage=1.0):\n",
        "        self.image_folder = image_folder\n",
        "        self.label_folder = label_folder\n",
        "        self.transform = transform\n",
        "        self.ingredient_dict = {k.strip().lower(): v for k, v in ingredient_dict.items()}  # Normalize keys\n",
        "        self.data = []\n",
        "\n",
        "        # Collect all key names (subfolders in image_folder)\n",
        "        all_folders = [key_name for key_name in os.listdir(label_folder) if key_name.endswith('.txt')]\n",
        "\n",
        "        # Sample a subset of folders based on the folder_percentage\n",
        "        folder_count = int(len(all_folders) * folder_percentage)\n",
        "        random.seed(42)\n",
        "        selected_folders = random.sample(all_folders, folder_count)\n",
        "\n",
        "        for key_name in selected_folders:\n",
        "            key_name_no_ext = key_name.replace('.txt', '')\n",
        "            image_dir = os.path.join(image_folder, key_name_no_ext)\n",
        "            label_file = os.path.join(label_folder, key_name)\n",
        "\n",
        "            # Check if the image folder and label file both exist\n",
        "            if not os.path.exists(image_dir):\n",
        "                print(f\"Missing image folder for key: {key_name_no_ext}\")\n",
        "                continue\n",
        "\n",
        "            if not os.path.exists(label_file):\n",
        "                print(f\"Missing label file for key: {key_name_no_ext}\")\n",
        "                continue\n",
        "\n",
        "            # Collect all images in the folder\n",
        "            images = glob.glob(os.path.join(image_dir, \"*.jpg\"))\n",
        "\n",
        "            # Debug: Check image count in folder\n",
        "            print(f\"Key: {key_name_no_ext}, Total Images: {len(images)}\")\n",
        "\n",
        "            # Sample a subset of images within the folder based on image_percentage\n",
        "            image_count = int(len(images) * image_percentage)\n",
        "            selected_images = random.sample(images, image_count) if image_count < len(images) else images\n",
        "\n",
        "            # Add each image as a separate entry in the dataset\n",
        "            for img_path in selected_images:\n",
        "                self.data.append((key_name_no_ext, img_path, label_file))\n",
        "\n",
        "        # Debug: Final dataset size\n",
        "        print(f\"Total Dataset Size: {len(self.data)}\")\n",
        "\n",
        "    def __len__(self):\n",
        "        return len(self.data)\n",
        "\n",
        "    def __getitem__(self, idx):\n",
        "        key_name, img_path, label_path = self.data[idx]\n",
        "\n",
        "        # Load and transform the image\n",
        "        image = Image.open(img_path).convert('RGB')\n",
        "        if self.transform:\n",
        "            image = self.transform(image)\n",
        "\n",
        "        # Load and encode the label\n",
        "        with open(label_path, 'r') as f:\n",
        "            ingredients = f.read().strip().split('\\n')\n",
        "\n",
        "        # Debug: Check label file contents\n",
        "        #print(f\"Label File ({label_path}) Contents: {ingredients}\")\n",
        "\n",
        "        label_tensor = torch.tensor(self._encode_ingredients(ingredients), dtype=torch.float)\n",
        "\n",
        "        # Debug: Check label tensor\n",
        "        #print(f\"Encoded Label Tensor for {key_name}: {label_tensor.nonzero(as_tuple=True)}\")\n",
        "\n",
        "        return key_name, image, label_tensor\n",
        "\n",
        "    def _encode_ingredients(self, ingredients):\n",
        "        \"\"\"Convert list of ingredients to a one-hot vector.\"\"\"\n",
        "        ingredient_vector = [0] * len(self.ingredient_dict)\n",
        "        for ingredient in ingredients:\n",
        "            normalized_ingredient = ingredient.strip().lower()\n",
        "            if normalized_ingredient in self.ingredient_dict:\n",
        "                ingredient_vector[self.ingredient_dict[normalized_ingredient]] = 1\n",
        "            else:\n",
        "                # Debug: Log unmapped ingredient\n",
        "                print(f\"Unmapped Ingredient: {ingredient}\")\n",
        "        return ingredient_vector\n"
      ]
    },
    {
      "cell_type": "code",
      "execution_count": null,
      "metadata": {
        "scrolled": true,
        "colab": {
          "base_uri": "https://localhost:8080/"
        },
        "id": "duOZxn9ahAq_",
        "outputId": "b873b61c-604b-445d-dfd8-8c07316d20b2"
      },
      "outputs": [
        {
          "output_type": "stream",
          "name": "stdout",
          "text": [
            "Key: a9fdaa2c20, Total Images: 1\n",
            "Total Dataset Size: 1\n",
            "Key: a9fdaa2c20, Total Images: 1\n",
            "Total Dataset Size: 1\n",
            "Key: a9fdaa2c20, Total Images: 1\n",
            "Total Dataset Size: 1\n",
            "Verifying Train Loader...\n",
            "Batch 1\n",
            "Key Name: ('a9fdaa2c20',)\n",
            "Image Tensor Shape: torch.Size([1, 3, 224, 224])\n",
            "Label Tensor Shape: torch.Size([1, 53])\n",
            "Non-zero Labels: (tensor([0, 0, 0, 0, 0, 0, 0]), tensor([11, 24, 34, 37, 39, 40, 42]))\n"
          ]
        }
      ],
      "source": [
        "from torch.utils.data import DataLoader\n",
        "from torchvision import transforms\n",
        "\n",
        "# Define image transformations (resize, convert to tensor, normalize)\n",
        "transform = transforms.Compose([\n",
        "    transforms.Resize((224, 224)),\n",
        "    transforms.ToTensor(),\n",
        "    transforms.Normalize(mean=[0.485, 0.456, 0.406], std=[0.229, 0.224, 0.225])\n",
        "])\n",
        "\n",
        "# Dataset paths \"C:\\Users\\arthu\\APS360\\Project_New\\balanced_small_dataset\\images\\train\\05123e5f1b\"\n",
        "#\"F:\\full_dataset\\images\"\n",
        "#r'/Users/arthurzhuang/Desktop/APS360/APS360_test_pipeline/list_ingredients.txt'\n",
        "\n",
        "train_image_folder = '/content/drive/My Drive/APS360/test_pipeline/test_pipeline/images/train'\n",
        "train_label_folder = '/content/drive/My Drive/APS360/test_pipeline/test_pipeline/labels/train'\n",
        "val_image_folder = '/content/drive/My Drive/APS360/test_pipeline/test_pipeline/images/val'\n",
        "val_label_folder = '/content/drive/My Drive/APS360/test_pipeline/test_pipeline/labels/val'\n",
        "test_image_folder = r'/content/drive/My Drive/APS360/test_pipeline/test_pipeline/images/test'\n",
        "test_label_folder = r'/content/drive/My Drive/APS360/test_pipeline/test_pipeline/labels/test'\n",
        "\n",
        "\n",
        "\n",
        "# Initialize datasets and DataLoaders\n",
        "train_dataset = IngredientDataset(\n",
        "    train_image_folder, train_label_folder, ingredient_dict, transform=transform, folder_percentage=1.0, image_percentage=1.0\n",
        ")\n",
        "val_dataset = IngredientDataset(\n",
        "    val_image_folder, val_label_folder, ingredient_dict, transform=transform, folder_percentage=1.0, image_percentage=1\n",
        ")\n",
        "test_dataset = IngredientDataset(\n",
        "    test_image_folder, test_label_folder, ingredient_dict, transform=transform, folder_percentage=1.0, image_percentage=1.0\n",
        ")\n",
        "\n",
        "train_loader = DataLoader(train_dataset, batch_size=32, shuffle=True)\n",
        "val_loader = DataLoader(val_dataset, batch_size=32, shuffle=False)\n",
        "test_loader = DataLoader(test_dataset, batch_size=32, shuffle=False)\n",
        "\n",
        "# Verify DataLoader\n",
        "print(\"Verifying Train Loader...\")\n",
        "for batch_idx, (key_name, image, label) in enumerate(val_loader):\n",
        "    print(f\"Batch {batch_idx + 1}\")\n",
        "    print(f\"Key Name: {key_name}\")\n",
        "    print(f\"Image Tensor Shape: {image.shape}\")\n",
        "    print(f\"Label Tensor Shape: {label.shape}\")\n",
        "    print(f\"Non-zero Labels: {label.nonzero(as_tuple=True)}\")  # Check for non-zero labels\n",
        "    break  # Break after the first batch for verification\n"
      ]
    },
    {
      "cell_type": "code",
      "execution_count": null,
      "metadata": {
        "colab": {
          "base_uri": "https://localhost:8080/"
        },
        "id": "JsACUMx_hArA",
        "outputId": "ef4679da-4bd7-4a58-f89f-7c605dfc69df"
      },
      "outputs": [
        {
          "output_type": "stream",
          "name": "stdout",
          "text": [
            "Using device: cuda\n"
          ]
        }
      ],
      "source": [
        "# Check if CUDA is available\n",
        "device = torch.device(\"cuda\" if torch.cuda.is_available() else \"cpu\")\n",
        "print(f\"Using device: {device}\")"
      ]
    },
    {
      "cell_type": "code",
      "execution_count": null,
      "metadata": {
        "id": "BszHszHchArA"
      },
      "outputs": [],
      "source": [
        "\n",
        "import torch\n",
        "import torch.nn as nn\n",
        "from torchvision.models import vit_b_16\n",
        "\n",
        "class VITIngredientDetector(nn.Module):\n",
        "   def __init__(self, output_size=100):\n",
        "       super().__init__()\n",
        "       # Load pretrained ViT\n",
        "       self.vit = vit_b_16(pretrained=True)\n",
        "\n",
        "       # Replace classifier head with more sophisticated head\n",
        "       self.head = nn.Sequential(\n",
        "           nn.Linear(768, 1024),\n",
        "           nn.LayerNorm(1024),\n",
        "           nn.ReLU(),\n",
        "           nn.Dropout(0.3),\n",
        "           nn.Linear(1024, 512),\n",
        "           nn.LayerNorm(512),\n",
        "           nn.ReLU(),\n",
        "           nn.Dropout(0.2),\n",
        "           nn.Linear(512, output_size)\n",
        "       )\n",
        "       self.vit.heads = self.head\n",
        "\n",
        "       # Initially freeze all parameters\n",
        "       for param in self.vit.parameters():\n",
        "           param.requires_grad = False\n",
        "\n",
        "       # Unfreeze head parameters\n",
        "       for param in self.head.parameters():\n",
        "           param.requires_grad = True\n",
        "\n",
        "       # Unfreeze last two transformer layers for fine-tuning\n",
        "       for param in self.vit.encoder.layers[-2:].parameters():\n",
        "           param.requires_grad = True\n",
        "\n",
        "   def unfreeze_last_n_layers(self, n):\n",
        "       \"\"\"Unfreeze the last n transformer layers\"\"\"\n",
        "       for param in self.vit.encoder.layers[-n:].parameters():\n",
        "           param.requires_grad = True\n",
        "\n",
        "   def forward(self, x):\n",
        "       return self.vit(x)"
      ]
    },
    {
      "cell_type": "code",
      "execution_count": null,
      "metadata": {
        "id": "olbsbCPFhArB"
      },
      "outputs": [],
      "source": [
        "import torch\n",
        "from sklearn.metrics import precision_score, recall_score, f1_score, classification_report\n",
        "import matplotlib.pyplot as plt\n",
        "from tqdm import tqdm\n",
        "import numpy as np\n",
        "\n",
        "def compute_accuracy(y_true, y_pred):\n",
        "    \"\"\"\n",
        "    Compute accuracy as ratio of correctly predicted positive labels to total positive labels\n",
        "    y_true: ground truth labels\n",
        "    y_pred: predicted labels\n",
        "    \"\"\"\n",
        "    total_samples = y_true.shape[0]\n",
        "    accuracies = []\n",
        "\n",
        "    for i in range(total_samples):\n",
        "        true_positives = np.sum(np.logical_and(y_true[i] == 1, y_pred[i] == 1))\n",
        "        total_positives = np.sum(y_true[i] == 1)\n",
        "        if total_positives > 0:  # Avoid division by zero\n",
        "            accuracies.append(true_positives / total_positives)\n",
        "\n",
        "    return np.mean(accuracies) if accuracies else 0.0\n",
        "\n",
        "\n",
        "def save_predictions(epoch, labels, predictions, key_names, save_dir=\"/content/drive/My Drive/APS360/test_pipeline/results.txt\", samples_per_epoch=484):\n",
        "    \"\"\"\n",
        "    Save validation predictions and labels to a single text file\n",
        "    \"\"\"\n",
        "    try:\n",
        "        os.makedirs(os.path.dirname(save_dir), exist_ok=True)\n",
        "\n",
        "        with open(save_dir, 'w') as f:  # Write mode to overwrite previous contents\n",
        "            for i in range(min(samples_per_epoch, len(labels))):\n",
        "                try:\n",
        "                    current_key = str(key_names[i]).replace('/', '_').replace('\\\\', '_')\n",
        "\n",
        "                    # Get predicted labels\n",
        "                    pred_indices = np.where(predictions[i] == 1)[0]\n",
        "                    predictions_list = [list(ingredient_dict.keys())[idx] for idx in pred_indices]\n",
        "\n",
        "                    # Store cleaned predictions to check for duplicates\n",
        "                    seen_base_ingredients = set()\n",
        "                    unique_predictions = []\n",
        "\n",
        "                    for pred in predictions_list:\n",
        "                        # Remove trailing numbers from ingredient name\n",
        "                        base_ingredient = ''.join(c for c in pred.rstrip('0123456789')).strip()\n",
        "\n",
        "                        # Only add if we haven't seen this base ingredient before\n",
        "                        if base_ingredient not in seen_base_ingredients:\n",
        "                            seen_base_ingredients.add(base_ingredient)\n",
        "                            unique_predictions.append(base_ingredient)  # Add cleaned version\n",
        "\n",
        "                    # Write unique predictions\n",
        "                    for pred in unique_predictions:\n",
        "                        f.write(f\"{pred}\\n\")\n",
        "\n",
        "                except IndexError as e:\n",
        "                    print(f\"Error processing sample {i}: {e}\")\n",
        "                    continue\n",
        "                except Exception as e:\n",
        "                    print(f\"Unexpected error processing sample {i}: {e}\")\n",
        "                    continue\n",
        "\n",
        "        print(f\"Successfully saved predictions to {save_dir}\")\n",
        "\n",
        "    except Exception as e:\n",
        "        print(f\"Error saving predictions: {e}\")\n",
        "        print(f\"Attempted to save to: {save_dir}\")\n",
        "        print(f\"Current working directory: {os.getcwd()}\")\n",
        "\n",
        "\n",
        "\n",
        "def custom_multilabel_metrics(y_true, y_pred, class_names):\n",
        "    \"\"\"\n",
        "    Custom metric calculation that consolidates predictions for all label groups\n",
        "    (e.g., flour1-4, agent1-2, etc.) based on ground truth\n",
        "    \"\"\"\n",
        "    #print(\"Entering custom_multilabel_metrics\")\n",
        "    # Create copies to avoid modifying originals\n",
        "    y_true_modified = y_true.copy()\n",
        "    y_pred_modified = y_pred.copy()\n",
        "\n",
        "    # Create a dictionary to group indices by base label\n",
        "    base_label_groups = {}\n",
        "    for i, name in enumerate(class_names):\n",
        "        # Extract base label by removing trailing numbers\n",
        "        base_label = ''.join(char for char in name if not char.isdigit())\n",
        "        if base_label not in base_label_groups:\n",
        "            base_label_groups[base_label] = []\n",
        "        base_label_groups[base_label].append(i)\n",
        "    #print(base_label_groups)\n",
        "\n",
        "    # For each sample\n",
        "    for i in range(len(y_true)):\n",
        "        # Handle each base label group\n",
        "        for base_indices in base_label_groups.values():\n",
        "            # Only process groups with multiple variants (len > 1)\n",
        "            if len(base_indices) > 1:\n",
        "                # Check if any variant exists in ground truth\n",
        "                true_variant_indices = [idx for idx in base_indices if y_true[i, idx] == 1]\n",
        "                if true_variant_indices:\n",
        "                    true_variant_idx = true_variant_indices[0]  # Get the ground truth variant index\n",
        "                    # If any variant was predicted, consolidate to the correct one\n",
        "                    if any(y_pred[i, idx] == 1 for idx in base_indices):\n",
        "                        # Zero out all variant predictions\n",
        "                        for idx in base_indices:\n",
        "                            y_pred_modified[i, idx] = 0\n",
        "                        # Set the correct variant to 1\n",
        "                        y_pred_modified[i, true_variant_idx] = 1\n",
        "\n",
        "    # Calculate metrics using modified predictions\n",
        "    precision = precision_score(y_true_modified, y_pred_modified, average=\"samples\", zero_division=0)\n",
        "    recall = recall_score(y_true_modified, y_pred_modified, average=\"samples\", zero_division=0)\n",
        "    f1 = f1_score(y_true_modified, y_pred_modified, average=\"samples\", zero_division=0)\n",
        "    #accuracy = compute_accuracy(y_true_modified, y_pred_modified)\n",
        "\n",
        "    # Generate classification report\n",
        "\n",
        "    return precision, recall, f1\n",
        "\n"
      ]
    },
    {
      "cell_type": "code",
      "execution_count": null,
      "metadata": {
        "colab": {
          "base_uri": "https://localhost:8080/"
        },
        "id": "WVjBqiR4hArD",
        "outputId": "ec5c48bb-fdf6-49fe-e8b2-38910416e167"
      },
      "outputs": [
        {
          "output_type": "stream",
          "name": "stderr",
          "text": [
            "<ipython-input-60-c88b9cff1ecd>:8: FutureWarning: You are using `torch.load` with `weights_only=False` (the current default value), which uses the default pickle module implicitly. It is possible to construct malicious pickle data which will execute arbitrary code during unpickling (See https://github.com/pytorch/pytorch/blob/main/SECURITY.md#untrusted-models for more details). In a future release, the default value for `weights_only` will be flipped to `True`. This limits the functions that could be executed during unpickling. Arbitrary objects will no longer be allowed to be loaded via this mode unless they are explicitly allowlisted by the user via `torch.serialization.add_safe_globals`. We recommend you start setting `weights_only=True` for any use case where you don't have full control of the loaded file. Please open an issue on GitHub for any issues related to this experimental feature.\n",
            "  checkpoint = torch.load(model_path, map_location=torch.device('cpu'))\n"
          ]
        },
        {
          "output_type": "stream",
          "name": "stdout",
          "text": [
            "Keys in checkpoint: dict_keys(['epoch', 'model_state_dict', 'optimizer_state_dict', 'scheduler_state_dict', 'f1_score', 'precision', 'recall', 'train_loss', 'val_loss'])\n"
          ]
        }
      ],
      "source": [
        "from torchvision.models import vit_b_16\n",
        "import torch\n",
        "\n",
        "# Load the model\n",
        "model_path = \"/content/drive/My Drive/APS360/test_pipeline/best_model_checkpoint_epoch_6.pth\"  # Update with the correct path\n",
        "output_size = len(ingredient_dict)  # The size of the output matches the number of ingredients\n",
        "\n",
        "checkpoint = torch.load(model_path, map_location=torch.device('cpu'))\n",
        "\n",
        "# Check the keys in the checkpoint\n",
        "print(\"Keys in checkpoint:\", checkpoint.keys())"
      ]
    },
    {
      "cell_type": "code",
      "execution_count": null,
      "metadata": {
        "collapsed": true,
        "jupyter": {
          "outputs_hidden": true
        },
        "colab": {
          "base_uri": "https://localhost:8080/"
        },
        "id": "9rHI6yTZhArD",
        "outputId": "e04bfcac-a662-46ee-96a4-e46944067afe"
      },
      "outputs": [
        {
          "output_type": "stream",
          "name": "stderr",
          "text": [
            "<ipython-input-61-494c912426c4>:4: FutureWarning: You are using `torch.load` with `weights_only=False` (the current default value), which uses the default pickle module implicitly. It is possible to construct malicious pickle data which will execute arbitrary code during unpickling (See https://github.com/pytorch/pytorch/blob/main/SECURITY.md#untrusted-models for more details). In a future release, the default value for `weights_only` will be flipped to `True`. This limits the functions that could be executed during unpickling. Arbitrary objects will no longer be allowed to be loaded via this mode unless they are explicitly allowlisted by the user via `torch.serialization.add_safe_globals`. We recommend you start setting `weights_only=True` for any use case where you don't have full control of the loaded file. Please open an issue on GitHub for any issues related to this experimental feature.\n",
            "  checkpoint = torch.load(model_path, map_location=torch.device('cpu'))\n",
            "/usr/local/lib/python3.10/dist-packages/torchvision/models/_utils.py:208: UserWarning: The parameter 'pretrained' is deprecated since 0.13 and may be removed in the future, please use 'weights' instead.\n",
            "  warnings.warn(\n",
            "/usr/local/lib/python3.10/dist-packages/torchvision/models/_utils.py:223: UserWarning: Arguments other than a weight enum or `None` for 'weights' are deprecated since 0.13 and may be removed in the future. The current behavior is equivalent to passing `weights=ViT_B_16_Weights.IMAGENET1K_V1`. You can also use `weights=ViT_B_16_Weights.DEFAULT` to get the most up-to-date weights.\n",
            "  warnings.warn(msg)\n"
          ]
        },
        {
          "output_type": "stream",
          "name": "stdout",
          "text": [
            "Model loaded successfully from checkpoint.\n"
          ]
        }
      ],
      "source": [
        "import torch\n",
        "\n",
        "# Load the checkpoint\n",
        "checkpoint = torch.load(model_path, map_location=torch.device('cpu'))\n",
        "\n",
        "# Initialize the model with the correct output size\n",
        "output_size = len(ingredient_dict)  # Number of classes\n",
        "model = VITIngredientDetector(output_size=output_size)\n",
        "\n",
        "# Load only the model weights\n",
        "model.load_state_dict(checkpoint[\"model_state_dict\"])\n",
        "model.eval()  # Set the model to evaluation mode\n",
        "\n",
        "print(\"Model loaded successfully from checkpoint.\")"
      ]
    },
    {
      "cell_type": "code",
      "execution_count": null,
      "metadata": {
        "jupyter": {
          "source_hidden": true
        },
        "id": "0zq1gafphArD"
      },
      "outputs": [],
      "source": [
        "from tqdm import tqdm\n",
        "import matplotlib.pyplot as plt\n",
        "import numpy as np\n",
        "from sklearn.metrics import classification_report\n",
        "\n",
        "def test_model(model, test_loader, device, class_names=list(ingredient_dict.keys()), save_dir=\"test_results\"):\n",
        "    \"\"\"\n",
        "    Test the model on the test set, compute metrics, save predictions, and save per-sample F1 scores to a text file.\n",
        "    \"\"\"\n",
        "    # Move model to device\n",
        "    model.to(device)\n",
        "    model.eval()  # Set model to evaluation mode\n",
        "\n",
        "    # Initialize variables for metrics and tracking\n",
        "    test_losses = []  # Track per-batch loss\n",
        "    all_true_labels = []\n",
        "    all_pred_labels = []\n",
        "    all_key_names = []\n",
        "    all_f1_scores = []  # Store per-sample F1 scores from custom metric\n",
        "\n",
        "    # Criterion (optional for loss calculation during testing)\n",
        "    criterion = torch.nn.BCEWithLogitsLoss()\n",
        "\n",
        "    print(\"Testing the model...\")\n",
        "    with torch.no_grad():\n",
        "        with tqdm(total=len(test_loader), desc=\"Testing\", unit=\"batch\") as pbar:\n",
        "            for batch_idx, (key_name, images, labels) in enumerate(test_loader):\n",
        "                # Move data to device\n",
        "                images, labels = images.to(device), labels.to(device)\n",
        "\n",
        "                # Forward pass\n",
        "                outputs = model(images)\n",
        "\n",
        "                # Compute loss (optional, for logging purposes)\n",
        "                loss = criterion(outputs, labels)\n",
        "                test_losses.append(loss.item())  # Track loss for plotting\n",
        "\n",
        "                # Convert logits to probabilities and binary predictions\n",
        "                probabilities = torch.sigmoid(outputs)\n",
        "                predictions = (probabilities > 0.35).int()\n",
        "\n",
        "                # Track ground truth, predictions, and key names\n",
        "                all_true_labels.append(labels.cpu().numpy())\n",
        "                all_pred_labels.append(predictions.cpu().numpy())\n",
        "                all_key_names.extend(key_name)\n",
        "\n",
        "                # Compute and store per-sample F1 scores using custom metric\n",
        "                for i in range(len(labels)):\n",
        "                    true = labels[i].cpu().numpy()\n",
        "                    pred = predictions[i].cpu().numpy()\n",
        "                    _, _, per_image_f1 = custom_multilabel_metrics(true[np.newaxis, :], pred[np.newaxis, :], class_names)\n",
        "                    all_f1_scores.append((key_name[i], per_image_f1))  # Store key and F1 score as a tuple\n",
        "\n",
        "                # Update progress bar\n",
        "                pbar.set_postfix({\"Loss\": f\"{loss.item():.4f}\"})\n",
        "                pbar.update(1)\n",
        "\n",
        "    # Combine results across all batches\n",
        "    all_true_labels = np.vstack(all_true_labels)\n",
        "    all_pred_labels = np.vstack(all_pred_labels)\n",
        "\n",
        "    # Calculate overall metrics using custom and scikit-learn functions\n",
        "    precision, recall, f1 = custom_multilabel_metrics(all_true_labels, all_pred_labels, class_names)\n",
        "    accuracy = compute_accuracy(all_true_labels, all_pred_labels)\n",
        "\n",
        "    # Print metrics\n",
        "    print(\"\\nTest Metrics (Custom):\")\n",
        "    print(f\"Precision: {precision:.4f}\")\n",
        "    print(f\"Recall: {recall:.4f}\")\n",
        "    print(f\"F1 Score: {f1:.4f}\")\n",
        "    print(f\"Accuracy (Custom): {accuracy:.4f}\")\n",
        "    plot_test_metrics(test_losses=test_losses, precision=precision, recall=recall, f1=f1)\n",
        "\n",
        "    # Generate and print scikit-learn classification report\n",
        "    print(\"\\nClassification Report (Scikit-Learn):\")\n",
        "    print(classification_report(all_true_labels, all_pred_labels, target_names=class_names, zero_division=0))\n",
        "\n",
        "    # Save predictions for analysis\n",
        "    #save_predictions(epoch=0, labels=all_true_labels, predictions=all_pred_labels, key_names=all_key_names)\n",
        "\n",
        "\n",
        "def plot_test_metrics(test_losses, precision, recall, f1):\n",
        "    \"\"\"Plot the test loss and metrics.\"\"\"\n",
        "    # Plot test loss\n",
        "    plt.figure(figsize=(10, 5))\n",
        "    plt.subplot(1, 2, 1)\n",
        "    plt.plot(range(1, len(test_losses) + 1), test_losses, label=\"Test Loss\", marker='o')\n",
        "    plt.xlabel(\"Batch\")\n",
        "    plt.ylabel(\"Loss\")\n",
        "    plt.title(\"Test Loss\")\n",
        "    plt.legend()\n",
        "\n",
        "    # Plot metrics\n",
        "    metrics = [precision, recall, f1]\n",
        "    metric_labels = [\"Precision\", \"Recall\", \"F1 Score\"]\n",
        "    plt.subplot(1, 2, 2)\n",
        "    plt.bar(metric_labels, metrics, color=['skyblue', 'lightgreen', 'salmon'])\n",
        "    plt.ylim(0, 1)\n",
        "    plt.title(\"Test Metrics\")\n",
        "    plt.ylabel(\"Score\")\n",
        "\n",
        "    plt.tight_layout()\n",
        "    plt.show()\n"
      ]
    },
    {
      "cell_type": "code",
      "execution_count": null,
      "metadata": {
        "colab": {
          "base_uri": "https://localhost:8080/",
          "height": 1000
        },
        "id": "vdNnXcYShArD",
        "outputId": "f4ab1c44-9686-4a4a-9422-36ca6e6036da"
      },
      "outputs": [
        {
          "output_type": "stream",
          "name": "stdout",
          "text": [
            "Testing the model...\n"
          ]
        },
        {
          "output_type": "stream",
          "name": "stderr",
          "text": [
            "Testing: 100%|██████████| 1/1 [00:01<00:00,  1.08s/batch, Loss=0.4468]\n"
          ]
        },
        {
          "output_type": "stream",
          "name": "stdout",
          "text": [
            "\n",
            "Test Metrics (Custom):\n",
            "Precision: 0.0000\n",
            "Recall: 0.0000\n",
            "F1 Score: 0.0000\n",
            "Accuracy (Custom): 0.0000\n"
          ]
        },
        {
          "output_type": "display_data",
          "data": {
            "text/plain": [
              "<Figure size 1000x500 with 2 Axes>"
            ],
            "image/png": "[encoded data removed]"
          },
          "metadata": {}
        },
        {
          "output_type": "stream",
          "name": "stdout",
          "text": [
            "\n",
            "Classification Report (Scikit-Learn):\n",
            "                                   precision    recall  f1-score   support\n",
            "\n",
            "                           agent1       0.00      0.00      0.00         0\n",
            "                           agent2       0.00      0.00      0.00         0\n",
            "                           allium       0.00      0.00      0.00         0\n",
            "                          berries       0.00      0.00      0.00         0\n",
            "                          butter1       0.00      0.00      0.00         0\n",
            "                          butter2       0.00      0.00      0.00         0\n",
            "                          butter3       0.00      0.00      0.00         0\n",
            "                          butter4       0.00      0.00      0.00         0\n",
            "                           cheese       0.00      0.00      0.00         0\n",
            "                        chocolate       0.00      0.00      0.00         0\n",
            "                         cinnamon       0.00      0.00      0.00         0\n",
            "                        condiment       0.00      0.00      0.00         1\n",
            "                           cream1       0.00      0.00      0.00         0\n",
            "                           cream2       0.00      0.00      0.00         0\n",
            "dried fruit, jams, snacks, treats       0.00      0.00      0.00         0\n",
            "                             fats       0.00      0.00      0.00         0\n",
            "                           flour1       0.00      0.00      0.00         0\n",
            "                           flour2       0.00      0.00      0.00         0\n",
            "                           flour3       0.00      0.00      0.00         0\n",
            "                           flour4       0.00      0.00      0.00         0\n",
            "                            fruit       0.00      0.00      0.00         0\n",
            "                           juice1       0.00      0.00      0.00         0\n",
            "                           juice2       0.00      0.00      0.00         0\n",
            "                          liquids       0.00      0.00      0.00         0\n",
            "             meat and substitutes       0.00      0.00      0.00         1\n",
            "                            milk1       0.00      0.00      0.00         0\n",
            "                            milk2       0.00      0.00      0.00         0\n",
            "                            milk3       0.00      0.00      0.00         0\n",
            "                       nightshade       0.00      0.00      0.00         0\n",
            "                             nut1       0.00      0.00      0.00         0\n",
            "                             nut2       0.00      0.00      0.00         0\n",
            "                             oil1       0.00      0.00      0.00         0\n",
            "                             oil2       0.00      0.00      0.00         0\n",
            "                             oil3       0.00      0.00      0.00         0\n",
            "                          pepper1       0.00      0.00      0.00         1\n",
            "                          pepper2       0.00      0.00      0.00         0\n",
            "                          powder1       0.00      0.00      0.00         0\n",
            "                          powder2       0.00      0.00      0.00         1\n",
            "                   root vegetable       0.00      0.00      0.00         0\n",
            "                            sauce       0.00      0.00      0.00         1\n",
            "                       seasoning1       0.00      0.00      0.00         1\n",
            "                       seasoning2       0.00      0.00      0.00         0\n",
            "                             seed       0.00      0.00      0.00         1\n",
            "                         starches       0.00      0.00      0.00         0\n",
            "                           syrup1       0.00      0.00      0.00         0\n",
            "                           syrup2       0.00      0.00      0.00         0\n",
            "                           syrup3       0.00      0.00      0.00         0\n",
            "                        vegetable       0.00      0.00      0.00         0\n",
            "                          vinegar       0.00      0.00      0.00         0\n",
            "                           water1       0.00      0.00      0.00         0\n",
            "                           water2       0.00      0.00      0.00         0\n",
            "                           water3       0.00      0.00      0.00         0\n",
            "                    wheat product       0.00      0.00      0.00         0\n",
            "\n",
            "                        micro avg       0.00      0.00      0.00         7\n",
            "                        macro avg       0.00      0.00      0.00         7\n",
            "                     weighted avg       0.00      0.00      0.00         7\n",
            "                      samples avg       0.00      0.00      0.00         7\n",
            "\n"
          ]
        }
      ],
      "source": [
        "test_model(\n",
        "    model=model,\n",
        "    test_loader=test_loader,\n",
        "    device=torch.device('cuda' if torch.cuda.is_available() else 'cpu')\n",
        ")"
      ]
    },
    {
      "cell_type": "code",
      "source": [
        "!pip install websockets flask flask-socketio pyngrok"
      ],
      "metadata": {
        "colab": {
          "base_uri": "https://localhost:8080/"
        },
        "id": "eL-unjS54yRN",
        "outputId": "fde8f3f0-2300-4406-818d-ed51c0b6fce8"
      },
      "execution_count": null,
      "outputs": [
        {
          "output_type": "stream",
          "name": "stdout",
          "text": [
            "Requirement already satisfied: websockets in /usr/local/lib/python3.10/dist-packages (14.1)\n",
            "Requirement already satisfied: flask in /usr/local/lib/python3.10/dist-packages (3.0.3)\n",
            "Requirement already satisfied: flask-socketio in /usr/local/lib/python3.10/dist-packages (5.4.1)\n",
            "Requirement already satisfied: pyngrok in /usr/local/lib/python3.10/dist-packages (7.2.1)\n",
            "Requirement already satisfied: Werkzeug>=3.0.0 in /usr/local/lib/python3.10/dist-packages (from flask) (3.1.3)\n",
            "Requirement already satisfied: Jinja2>=3.1.2 in /usr/local/lib/python3.10/dist-packages (from flask) (3.1.4)\n",
            "Requirement already satisfied: itsdangerous>=2.1.2 in /usr/local/lib/python3.10/dist-packages (from flask) (2.2.0)\n",
            "Requirement already satisfied: click>=8.1.3 in /usr/local/lib/python3.10/dist-packages (from flask) (8.1.7)\n",
            "Requirement already satisfied: blinker>=1.6.2 in /usr/local/lib/python3.10/dist-packages (from flask) (1.9.0)\n",
            "Requirement already satisfied: python-socketio>=5.0.2 in /usr/local/lib/python3.10/dist-packages (from flask-socketio) (5.11.4)\n",
            "Requirement already satisfied: PyYAML>=5.1 in /usr/local/lib/python3.10/dist-packages (from pyngrok) (6.0.2)\n",
            "Requirement already satisfied: MarkupSafe>=2.0 in /usr/local/lib/python3.10/dist-packages (from Jinja2>=3.1.2->flask) (3.0.2)\n",
            "Requirement already satisfied: bidict>=0.21.0 in /usr/local/lib/python3.10/dist-packages (from python-socketio>=5.0.2->flask-socketio) (0.23.1)\n",
            "Requirement already satisfied: python-engineio>=4.8.0 in /usr/local/lib/python3.10/dist-packages (from python-socketio>=5.0.2->flask-socketio) (4.10.1)\n",
            "Requirement already satisfied: simple-websocket>=0.10.0 in /usr/local/lib/python3.10/dist-packages (from python-engineio>=4.8.0->python-socketio>=5.0.2->flask-socketio) (1.1.0)\n",
            "Requirement already satisfied: wsproto in /usr/local/lib/python3.10/dist-packages (from simple-websocket>=0.10.0->python-engineio>=4.8.0->python-socketio>=5.0.2->flask-socketio) (1.2.0)\n",
            "Requirement already satisfied: h11<1,>=0.9.0 in /usr/local/lib/python3.10/dist-packages (from wsproto->simple-websocket>=0.10.0->python-engineio>=4.8.0->python-socketio>=5.0.2->flask-socketio) (0.14.0)\n"
          ]
        }
      ]
    },
    {
      "cell_type": "code",
      "source": [
        "import time\n",
        "time.sleep(5)"
      ],
      "metadata": {
        "id": "aFRUD-ryPYwk"
      },
      "execution_count": null,
      "outputs": []
    },
    {
      "cell_type": "code",
      "source": [
        "!ngrok authtoken 2pRcrhNdihhdnIZreXEcTcOkTPl_6CpJxpqeoNi77SakaKfpv"
      ],
      "metadata": {
        "colab": {
          "base_uri": "https://localhost:8080/"
        },
        "id": "YZM2N94P6dP0",
        "outputId": "c81fd06b-0550-4a22-90e3-7f7ffef31c33"
      },
      "execution_count": null,
      "outputs": [
        {
          "output_type": "stream",
          "name": "stdout",
          "text": [
            "Authtoken saved to configuration file: /root/.config/ngrok/ngrok.yml\n"
          ]
        }
      ]
    },
    {
      "cell_type": "code",
      "source": [
        "import http.server\n",
        "import socketserver\n",
        "import os\n",
        "from pyngrok import ngrok\n",
        "\n",
        "# Kill any existing ngrok processes\n",
        "ngrok.kill()\n",
        "\n",
        "# Your folder path\n",
        "FOLDER_PATH = \"/content/drive/My Drive/APS360/test_pipeline/\"\n",
        "\n",
        "# Change to the directory containing your files\n",
        "os.chdir(FOLDER_PATH)\n",
        "\n",
        "# Create a basic HTML file\n",
        "html_content = \"\"\"\n",
        "<!DOCTYPE html>\n",
        "<html>\n",
        "<head>\n",
        "    <title>Images</title>\n",
        "    <meta name=\"viewport\" content=\"width=device-width, initial-scale=1\">\n",
        "    <style>\n",
        "        body {\n",
        "            font-family: Arial, sans-serif;\n",
        "            margin: 20px;\n",
        "        }\n",
        "        .image-container {\n",
        "            display: flex;\n",
        "            flex-wrap: wrap;\n",
        "            gap: 20px;\n",
        "        }\n",
        "        img {\n",
        "            max-width: 300px;\n",
        "            height: auto;\n",
        "            border: 1px solid #ddd;\n",
        "            border-radius: 4px;\n",
        "            padding: 5px;\n",
        "        }\n",
        "        h1, h2 {\n",
        "            color: #333;\n",
        "        }\n",
        "        pre {\n",
        "            background-color: #f5f5f5;\n",
        "            padding: 15px;\n",
        "            border-radius: 4px;\n",
        "            overflow-x: auto;\n",
        "        }\n",
        "    </style>\n",
        "</head>\n",
        "<body>\n",
        "    <h1>FOOD IMAGES:</h1>\n",
        "    <div class=\"image-container\">\n",
        "\"\"\"\n",
        "\n",
        "# Add images to HTML\n",
        "for file in os.listdir(FOLDER_PATH):\n",
        "    if file.lower().endswith(('.png', '.jpg', '.jpeg', '.gif')):\n",
        "        html_content += f'<img src=\"{file}\" alt=\"{file}\">\\n'\n",
        "\n",
        "# Add text content\n",
        "try:\n",
        "    with open(\"results.txt\", 'r') as f:\n",
        "        text_content = f.read()\n",
        "except:\n",
        "    text_content = \"No results found\"\n",
        "\n",
        "html_content += f\"\"\"\n",
        "    </div>\n",
        "    <h2>INGREDIENT PREDICTIONS:</h2>\n",
        "    <pre>{text_content}</pre>\n",
        "</body>\n",
        "</html>\n",
        "\"\"\"\n",
        "\n",
        "# Write the HTML file\n",
        "with open(\"index.html\", 'w') as f:\n",
        "    f.write(html_content)\n",
        "\n",
        "# Set up a basic handler\n",
        "handler = http.server.SimpleHTTPRequestHandler\n",
        "\n",
        "# Start the server on port 8000\n",
        "with socketserver.TCPServer((\"\", 8000), handler) as httpd:\n",
        "    # Connect using your existing endpoint\n",
        "    public_url = ngrok.connect(8000, subdomain=\"094c46ba6af86304\")\n",
        "    print(f\"\\n{'='*50}\")\n",
        "    print(f\"Server running at: {public_url.public_url}\")\n",
        "    print(f\"{'='*50}\\n\")\n",
        "    try:\n",
        "        httpd.serve_forever()\n",
        "    except KeyboardInterrupt:\n",
        "        print(\"\\nShutting down server...\")\n",
        "        ngrok.kill()"
      ],
      "metadata": {
        "colab": {
          "base_uri": "https://localhost:8080/"
        },
        "id": "xBTlMXbf5mIv",
        "outputId": "e3729677-c54f-4c4c-8826-806322bb9a98"
      },
      "execution_count": null,
      "outputs": [
        {
          "output_type": "stream",
          "name": "stdout",
          "text": [
            "\n",
            "==================================================\n",
            "Server running at: https://094c46ba6af86304.ngrok.io\n",
            "==================================================\n",
            "\n"
          ]
        },
        {
          "output_type": "stream",
          "name": "stderr",
          "text": [
            "127.0.0.1 - - [28/Nov/2024 15:36:16] \"GET / HTTP/1.1\" 200 -\n",
            "127.0.0.1 - - [28/Nov/2024 15:36:16] \"GET /test.jpg HTTP/1.1\" 304 -\n",
            "127.0.0.1 - - [28/Nov/2024 15:36:32] \"GET / HTTP/1.1\" 200 -\n",
            "127.0.0.1 - - [28/Nov/2024 15:36:32] \"GET /test.jpg HTTP/1.1\" 304 -\n",
            "127.0.0.1 - - [28/Nov/2024 15:37:10] \"GET / HTTP/1.1\" 200 -\n",
            "127.0.0.1 - - [28/Nov/2024 15:37:40] \"GET / HTTP/1.1\" 200 -\n"
          ]
        }
      ]
    },
    {
      "cell_type": "code",
      "source": [
        "!sudo lsof -t -i:8000 | xargs kill -9"
      ],
      "metadata": {
        "id": "MokP4vAb8GXJ"
      },
      "execution_count": null,
      "outputs": []
    },
    {
      "cell_type": "markdown",
      "source": [],
      "metadata": {
        "id": "HD2IffC63WXA"
      }
    }
  ],
  "metadata": {
    "accelerator": "GPU",
    "colab": {
      "gpuType": "T4",
      "provenance": []
    },
    "kernelspec": {
      "display_name": "Python 3",
      "name": "python3"
    },
    "language_info": {
      "codemirror_mode": {
        "name": "ipython",
        "version": 3
      },
      "file_extension": ".py",
      "mimetype": "text/x-python",
      "name": "python",
      "nbconvert_exporter": "python",
      "pygments_lexer": "ipython3",
      "version": "3.9.1"
    }
  },
  "nbformat": 4,
  "nbformat_minor": 0
}